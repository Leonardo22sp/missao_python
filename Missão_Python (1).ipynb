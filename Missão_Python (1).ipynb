{
  "nbformat": 4,
  "nbformat_minor": 0,
  "metadata": {
    "colab": {
      "provenance": []
    },
    "kernelspec": {
      "name": "python3",
      "display_name": "Python 3"
    },
    "language_info": {
      "name": "python"
    }
  },
  "cells": [
    {
      "cell_type": "markdown",
      "source": [
        "# ***Pesquisa Obrigatória***\n",
        "\n",
        "**1.O que ord() faz em Python?**\n",
        "\n",
        "R= A função ord() em Python retorna o valor numérico (código Unicode) de um caractere fornecido. Ela é usada para converter caracteres em números, permitindo realizar cálculos, comparações ou manipulações baseadas nos valores Unicode ou ASCII.\n",
        "\n",
        "***2.O que chr() faz?***\n",
        "\n",
        "R= A função chr() em Python é usada para converter um número inteiro em seu caractere Unicode correspondente. Ela realiza a operação inversa da função ord(), que transforma um caractere em seu código numérico.\n",
        "\n",
        "***3.Como transformar uma string em uma lista de letras? (ex: list('texto'))***\n",
        "\n",
        "R= Para transformar uma string em uma lista de letras em Python, você pode usar a função list(), que converte a string em uma lista onde cada caractere é um elemento separado.\n",
        "\n",
        "***4.O que são f-strings? Dê um exemplo com variáveis.***\n",
        "\n",
        "R= As f-strings (formatted string literals) são uma forma moderna e eficiente de formatar strings em Python, introduzida na versão 3.6. Elas permitem incorporar variáveis, expressões e até cálculos diretamente dentro de uma string, usando uma sintaxe simples e legível.\n",
        "\n",
        "nome = \"Carlos\"\n",
        "\n",
        "idade = 20\n",
        "\n",
        "print(f\"Meu nome é {nome} e tenho {idade} anos\")\n",
        "\n",
        "***5.Como acessar letras específicas de uma string com índice (palavra[0], etc)?***\n",
        "\n",
        "R= Em Python, você pode acessar letras específicas de uma string utilizando índices dentro de colchetes []. A indexação começa em 0 para o primeiro caractere e pode ser negativa para acessar caracteres a partir do final da string.\n",
        "\n",
        "***6.O que acontece se tentarmos acessar uma letra que não existe (ex: palavra[6] em uma palavra com só 4 letras)?***\n",
        "\n",
        "R= Se você tentar acessar uma letra em uma string usando um índice que está fora do intervalo válido (por exemplo, palavra em uma string com apenas 4 letras), o Python irá gerar um IndexError. Esse erro ocorre porque você está tentando acessar uma posição que não existe na string.\n",
        "\n",
        "***7.O que é a tabela ASCII.?***\n",
        "\n",
        "R= A tabela ASCII (American Standard Code for Information Interchange) é um padrão de codificação que associa números a caracteres alfanuméricos, símbolos e comandos, permitindo que computadores interpretem e troquem informações de forma padronizada. Foi criada na década de 1960 por Robert W. Bemer para resolver o problema de incompatibilidade entre sistemas diferentes."
      ],
      "metadata": {
        "id": "iv7hYddR0Reg"
      }
    },
    {
      "cell_type": "code",
      "execution_count": null,
      "metadata": {
        "colab": {
          "base_uri": "https://localhost:8080/"
        },
        "id": "kidyVoDAxGoB",
        "outputId": "afcf5adb-58ad-4ab9-bb7f-6afc3c458ed0"
      },
      "outputs": [
        {
          "output_type": "stream",
          "name": "stdout",
          "text": [
            "Digite a primeira palavra (até 5 letras): pe\n",
            "Digite a segunda palavra (até 5 letras): pinto\n",
            "Digite a terceira palavra (até 5 letras): corsa\n",
            "Digite a terceira palavra (até 5 letras): agile\n",
            "Digite a terceira palavra (até 5 letras): puta\n",
            "\n",
            "🔐 Mensagem Codificada:\n",
            "[qf] 🞄 [qjoup] 🞄 [dpstb] 🞄 [bhjmf] 🞄 [qvub]\n",
            "\n",
            "\n",
            "🔓 Digite uma palavra codificada para decifrar: qvub\n",
            "\n",
            "🔍 Palavra Original: puta\n"
          ]
        }
      ],
      "source": [
        "# Função para codificar cada letra individualmente (sem loops)\n",
        "def codificar(palavra):\n",
        "    palavra = palavra[:5]\n",
        "    codificada = \"\"\n",
        "\n",
        "    if len(palavra) > 0: codificada += chr(ord(palavra[0]) + 1)\n",
        "    if len(palavra) > 1: codificada += chr(ord(palavra[1]) + 1)\n",
        "    if len(palavra) > 2: codificada += chr(ord(palavra[2]) + 1)\n",
        "    if len(palavra) > 3: codificada += chr(ord(palavra[3]) + 1)\n",
        "    if len(palavra) > 4: codificada += chr(ord(palavra[4]) + 1)\n",
        "    return codificada\n",
        "\n",
        "# Função para decodificar cada letra individualmente (sem loops)\n",
        "def decodificar(palavra):\n",
        "    palavra = palavra[:5]\n",
        "    decodificada = \"\"\n",
        "\n",
        "    if len(palavra) > 0: decodificada += chr(ord(palavra[0]) - 1)\n",
        "    if len(palavra) > 1: decodificada += chr(ord(palavra[1]) - 1)\n",
        "    if len(palavra) > 2: decodificada += chr(ord(palavra[2]) - 1)\n",
        "    if len(palavra) > 3: decodificada += chr(ord(palavra[3]) - 1)\n",
        "    if len(palavra) > 4: decodificada += chr(ord(palavra[4]) - 1)\n",
        "    return decodificada\n",
        "\n",
        "# Entrada de dados\n",
        "palavra1 = input(\"Digite a primeira palavra (até 5 letras): \")[:5]\n",
        "palavra2 = input(\"Digite a segunda palavra (até 5 letras): \")[:5]\n",
        "palavra3 = input(\"Digite a terceira palavra (até 5 letras): \")[:5]\n",
        "palavra4 = input(\"Digite a terceira palavra (até 5 letras): \")[:5]\n",
        "palavra5 = input(\"Digite a terceira palavra (até 5 letras): \")[:5]\n",
        "# Processamento de codificação\n",
        "cod1 = codificar(palavra1)\n",
        "cod2 = codificar(palavra2)\n",
        "cod3 = codificar(palavra3)\n",
        "cod4 = codificar(palavra4)\n",
        "cod5 = codificar(palavra5)\n",
        "\n",
        "# Saída formatada com f-string\n",
        "mensagem = f\"\"\"\n",
        "🔐 Mensagem Codificada:\n",
        "[{cod1}] 🞄 [{cod2}] 🞄 [{cod3}] 🞄 [{cod4}] 🞄 [{cod5}]\n",
        "\"\"\"\n",
        "print(mensagem)\n",
        "\n",
        "# Desafio extra - Decodificação\n",
        "codigo = input(\"\\n🔓 Digite uma palavra codificada para decifrar: \")[:5]\n",
        "original = decodificar(codigo)\n",
        "print(f\"\\n🔍 Palavra Original: {original}\")\n"
      ]
    }
  ]
}